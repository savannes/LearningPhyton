{
  "nbformat": 4,
  "nbformat_minor": 0,
  "metadata": {
    "colab": {
      "name": "adivinhacao.ipynb",
      "provenance": [],
      "collapsed_sections": [],
      "authorship_tag": "ABX9TyMSnANZcTAXuy4PHIQzkRhG",
      "include_colab_link": true
    },
    "kernelspec": {
      "name": "python3",
      "display_name": "Python 3"
    },
    "language_info": {
      "name": "python"
    }
  },
  "cells": [
    {
      "cell_type": "markdown",
      "metadata": {
        "id": "view-in-github",
        "colab_type": "text"
      },
      "source": [
        "<a href=\"https://colab.research.google.com/github/savannes/LearningPhyton/blob/main/adivinhacao.ipynb\" target=\"_parent\"><img src=\"https://colab.research.google.com/assets/colab-badge.svg\" alt=\"Open In Colab\"/></a>"
      ]
    },
    {
      "cell_type": "code",
      "execution_count": null,
      "metadata": {
        "colab": {
          "base_uri": "https://localhost:8080/"
        },
        "id": "hm71h-ght3mj",
        "outputId": "418b194a-f9ae-449d-a07d-52e22c02da6e"
      },
      "outputs": [
        {
          "output_type": "stream",
          "name": "stdout",
          "text": [
            "Bem vindo ao jogo de Adivinhação!\n"
          ]
        }
      ],
      "source": [
        "print(\"Bem vindo ao jogo de Adivinhação!\")"
      ]
    },
    {
      "cell_type": "code",
      "source": [
        "numero_secreto=42"
      ],
      "metadata": {
        "id": "DO6hGfLdwr0E"
      },
      "execution_count": null,
      "outputs": []
    },
    {
      "cell_type": "code",
      "source": [
        "chute=input(\"Digite um número \")"
      ],
      "metadata": {
        "colab": {
          "base_uri": "https://localhost:8080/"
        },
        "id": "GHVqLoihwwVo",
        "outputId": "3968c6a8-f6da-485b-a478-b3ad52e75b87"
      },
      "execution_count": null,
      "outputs": [
        {
          "name": "stdout",
          "output_type": "stream",
          "text": [
            "Digite um número 10\n"
          ]
        }
      ]
    },
    {
      "cell_type": "code",
      "source": [
        "print(\"Voce digitou \"+chute)"
      ],
      "metadata": {
        "colab": {
          "base_uri": "https://localhost:8080/"
        },
        "id": "6UkMoypWw847",
        "outputId": "4ff607a7-55a2-4367-c6f8-0d59399c3dc0"
      },
      "execution_count": null,
      "outputs": [
        {
          "output_type": "stream",
          "name": "stdout",
          "text": [
            "Voce digitou 10\n"
          ]
        }
      ]
    },
    {
      "cell_type": "code",
      "source": [
        "numero = int(chute)\n"
      ],
      "metadata": {
        "id": "lrhD6Urg3SNV"
      },
      "execution_count": null,
      "outputs": []
    },
    {
      "cell_type": "code",
      "source": [
        "acertou = numero_secreto == numero\n",
        "maior   = numero_secreto < numero\n",
        "menor   = numero_secreto < numero"
      ],
      "metadata": {
        "id": "5FtqCods_QXD"
      },
      "execution_count": null,
      "outputs": []
    },
    {
      "cell_type": "code",
      "source": [
        "if(acertou):\n",
        "  print(\"Você acertou\")\n",
        "else:\n",
        "  if(maior):\n",
        "    print(\"Você errou e seu chute foi maior que o número secreto\")\n",
        "  elif(menor):\n",
        "    print(\"Você errou e seu chute foi menor que o número secreto\")\n"
      ],
      "metadata": {
        "id": "2_eeSsos4Gha"
      },
      "execution_count": null,
      "outputs": []
    },
    {
      "cell_type": "code",
      "source": [
        ""
      ],
      "metadata": {
        "id": "YAv_CxR4Cu2R"
      },
      "execution_count": null,
      "outputs": []
    },
    {
      "cell_type": "code",
      "source": [
        ""
      ],
      "metadata": {
        "id": "fEvFs3Y3BU33"
      },
      "execution_count": null,
      "outputs": []
    }
  ]
}